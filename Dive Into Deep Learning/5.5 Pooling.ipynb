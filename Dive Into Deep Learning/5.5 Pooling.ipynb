{
 "cells": [
  {
   "cell_type": "markdown",
   "id": "6dde2c59",
   "metadata": {},
   "source": [
    "# 5.5 Pooling\n",
    "\n",
    "By gradually aggregating information, yielding coarser and coarser maps,\n",
    "we accomplish this goal of ultimately learning a global representation,\n",
    "while keeping all of the advantages of convolutional layers at the intermediate layers of processing.\n",
    "The deeper we go in the network,\n",
    "the larger the receptive field (relative to the input)\n",
    "to which each hidden node is sensitive. Reducing spatial resolution \n",
    "accelerates this process, \n",
    "since the convolution kernels cover a larger effective area. \n",
    "\n",
    "Moreover, when detecting lower-level features, such as edges, we often want our representations to be somewhat invariant to translation. For instance, if we take the image `X`\n",
    "with a sharp delineation between black and white\n",
    "and shift the whole image by one pixel to the right,\n",
    "i.e., `Z[i, j] = X[i, j + 1]`,\n",
    "then the output for the new image `Z` might be vastly different.\n",
    "The edge will have shifted by one pixel.\n",
    "\n",
    "This section introduces *pooling layers*,\n",
    "which serve the dual purposes of\n",
    "mitigating the sensitivity of convolutional layers to location\n",
    "and of spatially downsampling representations.\n",
    "\n",
    "## 5.5.1 Maximum Pooling and Average Pooling\n",
    "\n",
    "Like convolutional layers, *pooling* operators\n",
    "consist of a fixed-shape window that is slid over\n",
    "all regions in the input according to its stride,\n",
    "computing a single output for each location traversed\n",
    "by the fixed-shape window (sometimes known as the *pooling window*).\n",
    "However, unlike the cross-correlation computation\n",
    "of the inputs and kernels in the convolutional layer,\n",
    "the pooling layer contains no parameters (there is no *kernel*).\n",
    "Instead, pooling operators are deterministic,\n",
    "typically calculating either the maximum or the average value\n",
    "of the elements in the pooling window.\n",
    "These operations are called *maximum pooling* (*max-pooling* for short)\n",
    "and *average pooling*, respectively.\n",
    "\n",
    "*Average pooling* is essentially as old as CNNs. The idea is akin to \n",
    "downsampling an image. Rather than just taking the value of every second (or third) \n",
    "pixel for the lower resolution image, we can average over adjacent pixels to obtain \n",
    "an image with better signal-to-noise ratio since we are combining the information \n",
    "from multiple adjacent pixels. In almost all cases, max-pooling is preferable to average pooling. \n",
    "\n",
    "In both cases, as with the cross-correlation operator,\n",
    "we can think of the pooling window\n",
    "as starting from the upper-left of the input tensor\n",
    "and sliding across it from left to right and top to bottom.\n",
    "At each location that the pooling window hits,\n",
    "it computes the maximum or average\n",
    "value of the input subtensor in the window,\n",
    "depending on whether max or average pooling is employed.\n",
    "\n",
    "![Max-pooling with a pooling window shape of $2\\times 2$. The shaded portions are the first output element as well as the input tensor elements used for the output computation: $\\max(0, 1, 3, 4)=4$.](./img/pooling.svg)\n",
    "\n",
    "The output tensor in the figure has a height of 2 and a width of 2.\n",
    "The four elements are derived from the maximum value in each pooling window:\n",
    "\n",
    "$$\n",
    "\\max(0, 1, 3, 4)=4,\\\\\n",
    "\\max(1, 2, 4, 5)=5,\\\\\n",
    "\\max(3, 4, 6, 7)=7,\\\\\n",
    "\\max(4, 5, 7, 8)=8.\\\\\n",
    "$$\n",
    "\n",
    "More generally, we can define a $p \\times q$ pooling layer by aggregating over \n",
    "a region of said size. Returning to the problem of edge detection, \n",
    "we use the output of the convolutional layer\n",
    "as input for $2\\times 2$ max-pooling.\n",
    "Denote by `X` the input of the convolutional layer input and `Y` the pooling layer output. \n",
    "Regardless of whether or not the values of `X[i, j]`, `X[i, j + 1]`, \n",
    "`X[i+1, j]` and `X[i+1, j + 1]` are different,\n",
    "the pooling layer always outputs `Y[i, j] = 1`.\n",
    "That is to say, using the $2\\times 2$ max-pooling layer,\n",
    "we can still detect if the pattern recognized by the convolutional layer\n",
    "moves no more than one element in height or width.\n",
    "\n",
    "In the code below, we implement the forward propagation\n",
    "of the pooling layer in the `pool2d` function.\n",
    "This function is similar to the `corr2d` function.\n",
    "However, no kernel is needed, computing the output\n",
    "as either the maximum or the average of each region in the input."
   ]
  },
  {
   "cell_type": "code",
   "execution_count": 4,
   "id": "942f9654",
   "metadata": {},
   "outputs": [],
   "source": [
    "import torch\n",
    "from torch import nn\n",
    "from d2l import torch as d2l\n",
    "\n",
    "def pool2d(X, pool_size, mode='max'):\n",
    "    p_h, p_w = pool_size\n",
    "    Y = torch.zeros((X.shape[0] - p_h + 1, X.shape[1] - p_w + 1))\n",
    "    for i in range(Y.shape[0]):\n",
    "        for j in range(Y.shape[1]):\n",
    "            if mode == 'max':\n",
    "                Y[i, j] = X[i: i + p_h, j: j + p_w].max()\n",
    "            elif mode == 'avg':\n",
    "                Y[i, j] = X[i: i + p_h, j: j + p_w].mean()\n",
    "    return Y"
   ]
  },
  {
   "cell_type": "code",
   "execution_count": 5,
   "id": "45e07535",
   "metadata": {},
   "outputs": [
    {
     "data": {
      "text/plain": [
       "tensor([[4., 5.],\n",
       "        [7., 8.]])"
      ]
     },
     "execution_count": 5,
     "metadata": {},
     "output_type": "execute_result"
    }
   ],
   "source": [
    "X = torch.tensor([[0.0, 1.0, 2.0], [3.0, 4.0, 5.0], [6.0, 7.0, 8.0]])\n",
    "pool2d(X, (2, 2))"
   ]
  },
  {
   "cell_type": "code",
   "execution_count": 6,
   "id": "c8848d0e",
   "metadata": {},
   "outputs": [
    {
     "data": {
      "text/plain": [
       "tensor([[2., 3.],\n",
       "        [5., 6.]])"
      ]
     },
     "execution_count": 6,
     "metadata": {},
     "output_type": "execute_result"
    }
   ],
   "source": [
    "pool2d(X, (2, 2), 'avg')"
   ]
  },
  {
   "cell_type": "markdown",
   "id": "8b492bfd",
   "metadata": {},
   "source": [
    "# 5.5.2 Padding and Stride\n",
    "\n",
    "As with convolutional layers, pooling layers change the output shape. And as before, we can adjust the operation to achieve a desired output shape by padding the input and adjusting the stride. We can demonstrate the use of padding and strides in pooling layers via the built-in two-dimensional max-pooling layer from the deep learning framework. "
   ]
  },
  {
   "cell_type": "code",
   "execution_count": 7,
   "id": "cdffb638",
   "metadata": {},
   "outputs": [
    {
     "data": {
      "text/plain": [
       "tensor([[[[ 0.,  1.,  2.,  3.],\n",
       "          [ 4.,  5.,  6.,  7.],\n",
       "          [ 8.,  9., 10., 11.],\n",
       "          [12., 13., 14., 15.]]]])"
      ]
     },
     "execution_count": 7,
     "metadata": {},
     "output_type": "execute_result"
    }
   ],
   "source": [
    "X = torch.arange(16, dtype=torch.float32).reshape((1, 1, 4, 4))\n",
    "X"
   ]
  },
  {
   "cell_type": "markdown",
   "id": "bae43e6a",
   "metadata": {},
   "source": [
    "Since pooling aggregates information from an area, deep learning frameworks default to matching pooling window sizes and stride. For instance, if we use a pooling window of shape (3, 3) we get a stride shape of (3, 3) by default."
   ]
  },
  {
   "cell_type": "code",
   "execution_count": 8,
   "id": "b996351f",
   "metadata": {},
   "outputs": [
    {
     "data": {
      "text/plain": [
       "tensor([[[[10.]]]])"
      ]
     },
     "execution_count": 8,
     "metadata": {},
     "output_type": "execute_result"
    }
   ],
   "source": [
    "pool2d = nn.MaxPool2d(3)\n",
    "# Pooling has no model parameters, hence it needs no initialization\n",
    "pool2d(X)"
   ]
  },
  {
   "cell_type": "markdown",
   "id": "d17aafb0",
   "metadata": {},
   "source": [
    "Needless to say, the stride and padding can be manually specified to override framework defaults if required."
   ]
  },
  {
   "cell_type": "code",
   "execution_count": 9,
   "id": "d0386f6f",
   "metadata": {},
   "outputs": [
    {
     "data": {
      "text/plain": [
       "tensor([[[[ 5.,  7.],\n",
       "          [13., 15.]]]])"
      ]
     },
     "execution_count": 9,
     "metadata": {},
     "output_type": "execute_result"
    }
   ],
   "source": [
    "pool2d = nn.MaxPool2d(3, padding=1, stride=2)\n",
    "pool2d(X)"
   ]
  },
  {
   "cell_type": "markdown",
   "id": "80971fbc",
   "metadata": {},
   "source": [
    "Of course, we can specify an arbitrary rectangular pooling window with arbitrary height and width respectively, as the example below shows."
   ]
  },
  {
   "cell_type": "code",
   "execution_count": 10,
   "id": "82d86252",
   "metadata": {},
   "outputs": [
    {
     "data": {
      "text/plain": [
       "tensor([[[[ 5.,  7.],\n",
       "          [13., 15.]]]])"
      ]
     },
     "execution_count": 10,
     "metadata": {},
     "output_type": "execute_result"
    }
   ],
   "source": [
    "pool2d = nn.MaxPool2d((2, 3), stride=(2, 3), padding=(0, 1))\n",
    "pool2d(X)"
   ]
  },
  {
   "cell_type": "markdown",
   "id": "a55be58a",
   "metadata": {},
   "source": [
    "## 5.5.3 Multiple Channels\n",
    "\n",
    "When processing multi-channel input data, the pooling layer pools each input channel separately, rather than summing the inputs up over channels as in a convolutional layer. This means that the number of output channels for the pooling layer is the same as the number of input channels. Below, we will concatenate tensors X and X + 1 on the channel dimension to construct an input with two channels."
   ]
  },
  {
   "cell_type": "code",
   "execution_count": 11,
   "id": "9338dff3",
   "metadata": {},
   "outputs": [
    {
     "data": {
      "text/plain": [
       "tensor([[[[ 0.,  1.,  2.,  3.],\n",
       "          [ 4.,  5.,  6.,  7.],\n",
       "          [ 8.,  9., 10., 11.],\n",
       "          [12., 13., 14., 15.]],\n",
       "\n",
       "         [[ 1.,  2.,  3.,  4.],\n",
       "          [ 5.,  6.,  7.,  8.],\n",
       "          [ 9., 10., 11., 12.],\n",
       "          [13., 14., 15., 16.]]]])"
      ]
     },
     "execution_count": 11,
     "metadata": {},
     "output_type": "execute_result"
    }
   ],
   "source": [
    "X = torch.cat((X, X + 1), 1)\n",
    "X"
   ]
  },
  {
   "cell_type": "markdown",
   "id": "f52f5ded",
   "metadata": {},
   "source": [
    "As we can see, the number of output channels is still two after pooling."
   ]
  },
  {
   "cell_type": "code",
   "execution_count": 12,
   "id": "04bf8188",
   "metadata": {},
   "outputs": [
    {
     "data": {
      "text/plain": [
       "tensor([[[[ 5.,  7.],\n",
       "          [13., 15.]],\n",
       "\n",
       "         [[ 6.,  8.],\n",
       "          [14., 16.]]]])"
      ]
     },
     "execution_count": 12,
     "metadata": {},
     "output_type": "execute_result"
    }
   ],
   "source": [
    "pool2d = nn.MaxPool2d(3, padding=1, stride=2)\n",
    "pool2d(X)"
   ]
  },
  {
   "cell_type": "markdown",
   "id": "8486ec19",
   "metadata": {},
   "source": [
    "## 5.5.4 Summary\n",
    "\n",
    "Note that pooling is indifferent to channels, i.e., it leaves the number of channels unchanged and it applies to each channel separately. Lastly, of the two popular pooling choices, max-pooling is preferable to average pooling, as it confers some degree of invariance to output. A popular choice is to pick a pooling window size of $2 \\times 2$ to quarter the spatial resolution of output. \n",
    "\n",
    "Note that there are many more ways of reducing resolution beyond pooling. For instance, in stochastic pooling and fractional max-pooling aggregation is combined with randomization. This can slightly improve the accuracy in some cases. Lastly, as we will see later with the attention mechanism, there are more refined ways of aggregating over outputs, e.g., by using the alignment between a query and representation vectors. "
   ]
  }
 ],
 "metadata": {
  "kernelspec": {
   "display_name": "Python 3 (ipykernel)",
   "language": "python",
   "name": "python3"
  },
  "language_info": {
   "codemirror_mode": {
    "name": "ipython",
    "version": 3
   },
   "file_extension": ".py",
   "mimetype": "text/x-python",
   "name": "python",
   "nbconvert_exporter": "python",
   "pygments_lexer": "ipython3",
   "version": "3.8.18"
  }
 },
 "nbformat": 4,
 "nbformat_minor": 5
}
