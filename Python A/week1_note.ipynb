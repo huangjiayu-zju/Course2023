{
 "cells": [
  {
   "cell_type": "markdown",
   "id": "1014bd55",
   "metadata": {},
   "source": [
    "# My first Python jupyter Notebook\n",
    "this is my first jupyter notebook"
   ]
  },
  {
   "cell_type": "code",
   "execution_count": 1,
   "id": "2f0deb4c",
   "metadata": {},
   "outputs": [],
   "source": [
    "#Print is used to print text or values of a variable\n",
    "#To look up what Print function does (using ? symbol). This can be applied to any python function\n",
    "?print"
   ]
  },
  {
   "cell_type": "code",
   "execution_count": 2,
   "id": "1b7c504f",
   "metadata": {},
   "outputs": [
    {
     "name": "stdout",
     "output_type": "stream",
     "text": [
      "Hello world from Jupyter Notebook!\n",
      "Hello world from Jupyter Notebook!\n"
     ]
    }
   ],
   "source": [
    "# The '#' character allows you to add comments about your code\n",
    "# alphanumeric characters in quoatations simples '' or  doubles \"\"\n",
    "print('Hello world from Jupyter Notebook!')\n",
    "print(\"Hello world from Jupyter Notebook!\")"
   ]
  },
  {
   "cell_type": "code",
   "execution_count": 4,
   "id": "beccaa47",
   "metadata": {},
   "outputs": [
    {
     "name": "stdout",
     "output_type": "stream",
     "text": [
      "Hello world from Jupyter Notebook!\n",
      "Hello world from Jupyter Notebook!\n"
     ]
    }
   ],
   "source": [
    "#Assigning a value into a variable. In this case, alphanumeric characters\n",
    "firstVariable = 'Hello world from Jupyter Notebook!'\n",
    "secondVariable = \"Hello world from Jupyter Notebook!\"\n",
    "#Printing the values of the variables \n",
    "print(firstVariable)\n",
    "print(secondVariable)"
   ]
  },
  {
   "cell_type": "code",
   "execution_count": 3,
   "id": "17de4686",
   "metadata": {},
   "outputs": [
    {
     "name": "stdout",
     "output_type": "stream",
     "text": [
      "1/2/3/4/5/6/7/8/9/10/12."
     ]
    }
   ],
   "source": [
    "total = 10 + 2\n",
    "print(1, 2, 3, 4, 5, 6, 7, 8, 9, 10, total, sep = \"/\", end = \".\")"
   ]
  },
  {
   "cell_type": "markdown",
   "id": "e44adf8a",
   "metadata": {},
   "source": [
    "### Headings\n",
    "\n",
    "# Biggest Heading\n",
    "## Sub Heading\n",
    "### Sub Sub Heading\n",
    "#### Sub Sub Sub Heading\n",
    "\n",
    "### Numbered Lists\n",
    "1. Item 1\n",
    "1. Item 2\n",
    "1. Item 3\n",
    "    1. Item 3.1\n",
    "    1. Item 3.2\n",
    "\n",
    "### Dot Points\n",
    "* Point 1\n",
    "* Point 2\n",
    "    * Subpoint 2.1\n",
    "* Point 3\n",
    "\n",
    "### Emphasis\n",
    "*Italic*\n",
    "**Bold**\n",
    "\n",
    "### Line\n",
    "***\n",
    "\n",
    "### Math Symbols\n",
    "$x=5^2$"
   ]
  },
  {
   "cell_type": "code",
   "execution_count": 6,
   "id": "68e585f3",
   "metadata": {},
   "outputs": [
    {
     "name": "stdout",
     "output_type": "stream",
     "text": [
      "Hello World Jiayu Huang\n"
     ]
    }
   ],
   "source": [
    "print(\"Hello World Jiayu Huang\")"
   ]
  },
  {
   "cell_type": "markdown",
   "id": "3cf0438d",
   "metadata": {},
   "source": [
    "* [x] *Week 1* **Topic 1** Done"
   ]
  },
  {
   "cell_type": "code",
   "execution_count": 9,
   "id": "2a125ae1",
   "metadata": {},
   "outputs": [
    {
     "name": "stdout",
     "output_type": "stream",
     "text": [
      "my age is 24\n"
     ]
    }
   ],
   "source": [
    "age = 24\n",
    "print(\"my age is \" + str(age))"
   ]
  },
  {
   "cell_type": "code",
   "execution_count": 23,
   "id": "1d3bd178",
   "metadata": {},
   "outputs": [
    {
     "name": "stdout",
     "output_type": "stream",
     "text": [
      "my age is 24\n"
     ]
    }
   ],
   "source": [
    "age = 24\n",
    "print(\"my age is\", age)"
   ]
  },
  {
   "cell_type": "code",
   "execution_count": 13,
   "id": "a9c4b8c9",
   "metadata": {},
   "outputs": [
    {
     "data": {
      "text/plain": [
       "(3.14159, False, 'John')"
      ]
     },
     "execution_count": 13,
     "metadata": {},
     "output_type": "execute_result"
    }
   ],
   "source": [
    "# integer -> int\n",
    "daysOfWeek = 7\n",
    "#Float or decimal\n",
    "Pi = 3.14159\n",
    "#boolean -> bool\n",
    "isMyFirstVariable = False\n",
    "#String --> you can use single or double quotation\n",
    "name = 'John'\n",
    "\n",
    "# you can print out the value of a variable by just typing its name\n",
    "Pi, isMyFirstVariable, name"
   ]
  },
  {
   "cell_type": "code",
   "execution_count": 14,
   "id": "392be5bc",
   "metadata": {},
   "outputs": [
    {
     "data": {
      "text/plain": [
       "int"
      ]
     },
     "execution_count": 14,
     "metadata": {},
     "output_type": "execute_result"
    }
   ],
   "source": [
    "# Example 2 - this code display what type is a varible using the function type (variable name)\n",
    "type (daysOfWeek)"
   ]
  },
  {
   "cell_type": "code",
   "execution_count": 16,
   "id": "182c54ce",
   "metadata": {},
   "outputs": [
    {
     "name": "stdout",
     "output_type": "stream",
     "text": [
      "hello\n"
     ]
    }
   ],
   "source": [
    "a = 10\n",
    "a = \"hello\"\n",
    "print(a)"
   ]
  },
  {
   "cell_type": "code",
   "execution_count": 19,
   "id": "a472a72e",
   "metadata": {},
   "outputs": [
    {
     "name": "stdout",
     "output_type": "stream",
     "text": [
      "2.578888888888889 16.89 14.64293111111111\n"
     ]
    }
   ],
   "source": [
    "a = 2.578888888888888888\n",
    "b = 5.678\n",
    "c = a*b\n",
    "b = 16.89\n",
    "print(a,b,c)"
   ]
  },
  {
   "cell_type": "markdown",
   "id": "ebb01316",
   "metadata": {},
   "source": [
    "float有精度上限"
   ]
  },
  {
   "cell_type": "code",
   "execution_count": 21,
   "id": "946f79b8",
   "metadata": {},
   "outputs": [
    {
     "name": "stdout",
     "output_type": "stream",
     "text": [
      "2.57888888888888 16.89 14.64293111111106\n"
     ]
    }
   ],
   "source": [
    "a = 2.57888888888888\n",
    "b = 5.678\n",
    "c = a*b\n",
    "b = 16.89\n",
    "print(a,b,c)"
   ]
  },
  {
   "cell_type": "code",
   "execution_count": 25,
   "id": "6ad1da04",
   "metadata": {},
   "outputs": [
    {
     "name": "stdout",
     "output_type": "stream",
     "text": [
      "9\n",
      "1\n",
      "1\n"
     ]
    }
   ],
   "source": [
    "print(3 ** 2)\n",
    "print(3 // 2)\n",
    "print(3 % 2)"
   ]
  },
  {
   "cell_type": "code",
   "execution_count": 30,
   "id": "88814234",
   "metadata": {},
   "outputs": [
    {
     "name": "stdout",
     "output_type": "stream",
     "text": [
      "11.666666666666668\n",
      "10.0\n",
      "11.666666666666668\n",
      "11.666666666666666\n"
     ]
    }
   ],
   "source": [
    "print(5 + 10 * 2 / 3)\n",
    "print((5 + 10) * 2 / 3)\n",
    "print(5 + (10 * 2) / 3)\n",
    "print(5 + 10 * (2 / 3))"
   ]
  },
  {
   "cell_type": "code",
   "execution_count": 34,
   "id": "622e589a",
   "metadata": {},
   "outputs": [
    {
     "data": {
      "text/plain": [
       "['__doc__',\n",
       " '__file__',\n",
       " '__loader__',\n",
       " '__name__',\n",
       " '__package__',\n",
       " '__spec__',\n",
       " 'acos',\n",
       " 'acosh',\n",
       " 'asin',\n",
       " 'asinh',\n",
       " 'atan',\n",
       " 'atan2',\n",
       " 'atanh',\n",
       " 'cbrt',\n",
       " 'ceil',\n",
       " 'comb',\n",
       " 'copysign',\n",
       " 'cos',\n",
       " 'cosh',\n",
       " 'degrees',\n",
       " 'dist',\n",
       " 'e',\n",
       " 'erf',\n",
       " 'erfc',\n",
       " 'exp',\n",
       " 'exp2',\n",
       " 'expm1',\n",
       " 'fabs',\n",
       " 'factorial',\n",
       " 'floor',\n",
       " 'fmod',\n",
       " 'frexp',\n",
       " 'fsum',\n",
       " 'gamma',\n",
       " 'gcd',\n",
       " 'hypot',\n",
       " 'inf',\n",
       " 'isclose',\n",
       " 'isfinite',\n",
       " 'isinf',\n",
       " 'isnan',\n",
       " 'isqrt',\n",
       " 'lcm',\n",
       " 'ldexp',\n",
       " 'lgamma',\n",
       " 'log',\n",
       " 'log10',\n",
       " 'log1p',\n",
       " 'log2',\n",
       " 'modf',\n",
       " 'nan',\n",
       " 'nextafter',\n",
       " 'perm',\n",
       " 'pi',\n",
       " 'pow',\n",
       " 'prod',\n",
       " 'radians',\n",
       " 'remainder',\n",
       " 'sin',\n",
       " 'sinh',\n",
       " 'sqrt',\n",
       " 'tan',\n",
       " 'tanh',\n",
       " 'tau',\n",
       " 'trunc',\n",
       " 'ulp']"
      ]
     },
     "execution_count": 34,
     "metadata": {},
     "output_type": "execute_result"
    }
   ],
   "source": [
    "import math\n",
    "dir(math)"
   ]
  },
  {
   "cell_type": "code",
   "execution_count": 35,
   "id": "eaf9b946",
   "metadata": {},
   "outputs": [
    {
     "name": "stdout",
     "output_type": "stream",
     "text": [
      "Random float number 1 is  0.24035018504480365\n",
      "Random float number 2 is  0.4859736944734562\n",
      "Random float number 3 is  0.23368866323750503\n",
      "Random float number 4 is  0.033426134327801726\n"
     ]
    }
   ],
   "source": [
    "import random\n",
    "print(\"Random float number 1 is \", random.random())\n",
    "print(\"Random float number 2 is \", random.random())\n",
    "print(\"Random float number 3 is \", random.random())\n",
    "print(\"Random float number 4 is \", random.random())\n",
    "#Note: Every time this cell is executed, the generated numbers change "
   ]
  },
  {
   "cell_type": "code",
   "execution_count": 36,
   "id": "10e0ba8c",
   "metadata": {},
   "outputs": [
    {
     "name": "stdout",
     "output_type": "stream",
     "text": [
      "Random float between -3.5 and 8.3:  -1.9337984252132119\n",
      "Random float between 25.5 and 99.9:  51.525033332512606\n"
     ]
    }
   ],
   "source": [
    "print(\"Random float between -3.5 and 8.3: \",  random.uniform(-3.5, 8.3)) #starting point -3.5, stopping point 8.3\n",
    "print(\"Random float between 25.5 and 99.9: \",  random.uniform(25.5, 99.9)) #starting point 25.5, stopping point 99.9"
   ]
  },
  {
   "cell_type": "code",
   "execution_count": 39,
   "id": "3d1a69c4",
   "metadata": {},
   "outputs": [
    {
     "name": "stdout",
     "output_type": "stream",
     "text": [
      "Random integer between -7 and 10:  10\n",
      "Random integer between 230 and 600:  364\n"
     ]
    }
   ],
   "source": [
    "# Example of random integer generation\n",
    "randomNumber = random.randint(-7,10) #starting point -7, stopping point 10\n",
    "print('Random integer between -7 and 10: ', randomNumber)\n",
    "print('Random integer between 230 and 600: ', random.randint(230,600)) #starting point 230, stopping point 600\n",
    "#Note: Every time this cell is executed, the generated numbers change  "
   ]
  },
  {
   "cell_type": "markdown",
   "id": "fc26a1d7",
   "metadata": {},
   "source": [
    "\\begin{equation}\n",
    "e^x=\\sum_{i=0}^\\infty \\frac{1}{i!}x^i\n",
    "\\end{equation}"
   ]
  },
  {
   "cell_type": "markdown",
   "id": "72ac6c1a",
   "metadata": {},
   "source": [
    "| This | is   |\n",
    "|------|------|\n",
    "|   a  | table| "
   ]
  },
  {
   "cell_type": "code",
   "execution_count": 1,
   "id": "d6022eb0",
   "metadata": {},
   "outputs": [
    {
     "name": "stdout",
     "output_type": "stream",
     "text": [
      "H e l l o !\n"
     ]
    }
   ],
   "source": [
    "print(\"H\", \"e\", \"l\", \"l\", \"o\", \"!\")"
   ]
  },
  {
   "cell_type": "markdown",
   "id": "0ec7b975",
   "metadata": {},
   "source": [
    "This is the Wikipedia page of [Markdown](https://en.wikipedia.org/wiki/Markdown)"
   ]
  },
  {
   "cell_type": "code",
   "execution_count": 6,
   "id": "62bed94e",
   "metadata": {},
   "outputs": [
    {
     "name": "stdout",
     "output_type": "stream",
     "text": [
      "My name is David, I am 12\n"
     ]
    }
   ],
   "source": [
    "txt2 = \"My name is {}, I am {}\".format(\"David\", 12)\n",
    "print(txt2)"
   ]
  },
  {
   "cell_type": "markdown",
   "id": "7200be2d",
   "metadata": {},
   "source": []
  },
  {
   "cell_type": "code",
   "execution_count": 3,
   "id": "4fb23c8a",
   "metadata": {},
   "outputs": [
    {
     "name": "stdout",
     "output_type": "stream",
     "text": [
      "1 2 4 5 3 4 2 5 1 3 4 5 2 3 1 "
     ]
    }
   ],
   "source": [
    "class TreeNode:\n",
    "    def __init__(self, value=0, left=None, right=None):\n",
    "        self.value = value\n",
    "        self.left = left\n",
    "        self.right = right\n",
    "def pre_order_traversal(node):\n",
    "    \"\"\"Pre-order traversal order: Root -> Left -> Right\"\"\"\n",
    "    if node is None:\n",
    "        return  # Return if the node is empty/null    \n",
    "    print(node.value, end=' ')\n",
    "    pre_order_traversal(node.left)\n",
    "    pre_order_traversal(node.right)\n",
    "def in_order_traversal(node):\n",
    "    \"\"\"In-order traversal order: Left -> Root -> Right \"\"\"\n",
    "    if node is None:\n",
    "        return  # Return if the node is empty/null\n",
    "    in_order_traversal(node.left)\n",
    "    print(node.value, end=' ')\n",
    "    in_order_traversal(node.right)\n",
    "def post_order_traversal(node):\n",
    "    \"\"\"Post-order traversal order: Left -> Right -> Root\"\"\"\n",
    "    if node is None:\n",
    "        return  # Return if the node is empty/null\n",
    "    post_order_traversal(node.left)\n",
    "    post_order_traversal(node.right)\n",
    "    print(node.value, end=' ')\n",
    "root = TreeNode(1)\n",
    "root.left = TreeNode(2)\n",
    "root.right = TreeNode(3)\n",
    "root.left.left = TreeNode(4)\n",
    "root.left.right = TreeNode(5)\n",
    "pre_order_traversal(root)\n",
    "in_order_traversal(root)\n",
    "post_order_traversal(root)"
   ]
  },
  {
   "cell_type": "code",
   "execution_count": null,
   "id": "e18ec729",
   "metadata": {},
   "outputs": [],
   "source": []
  }
 ],
 "metadata": {
  "kernelspec": {
   "display_name": "Python 3 (ipykernel)",
   "language": "python",
   "name": "python3"
  },
  "language_info": {
   "codemirror_mode": {
    "name": "ipython",
    "version": 3
   },
   "file_extension": ".py",
   "mimetype": "text/x-python",
   "name": "python",
   "nbconvert_exporter": "python",
   "pygments_lexer": "ipython3",
   "version": "3.11.4"
  }
 },
 "nbformat": 4,
 "nbformat_minor": 5
}
