{
 "cells": [
  {
   "cell_type": "markdown",
   "id": "673183e1-4fc3-45a2-801e-a5e08e689c73",
   "metadata": {},
   "source": [
    "# In this assignment, you will implement linear regression with one variable.\n",
    "### 100 points total"
   ]
  },
  {
   "cell_type": "code",
   "execution_count": 191,
   "id": "be52b2b2-8b28-4a9c-bbca-bd73e2895afe",
   "metadata": {},
   "outputs": [],
   "source": [
    "# clear all variables\n",
    "%reset_selective -f a\n",
    "#import \n",
    "import numpy as np\n",
    "import matplotlib.pyplot as plt\n",
    "from numpy import loadtxt"
   ]
  },
  {
   "cell_type": "markdown",
   "id": "37671359-c7d1-42fb-af77-3d503c13f463",
   "metadata": {},
   "source": [
    "## Load data from data.csv file (5 Points)\n"
   ]
  },
  {
   "cell_type": "code",
   "execution_count": 265,
   "id": "0b6c91e8-0fd1-4155-9393-d585cb76387c",
   "metadata": {},
   "outputs": [],
   "source": [
    "# Complete the function below to load the data from data.csv. \n",
    "# Return [X,y] where X is the input and y is the target\n",
    "def load_data(file_name):\n",
    "    # write your code here\n",
    "\n",
    "    return X,y"
   ]
  },
  {
   "cell_type": "code",
   "execution_count": 244,
   "id": "a90b6a87-2263-422c-9cd2-50c292ac5701",
   "metadata": {},
   "outputs": [],
   "source": [
    "[X,y] = load_data(\"data.csv\")"
   ]
  },
  {
   "cell_type": "markdown",
   "id": "ab414dd6-1962-4f8c-93bb-f45c17f726b5",
   "metadata": {},
   "source": [
    "### Visualise the data (5 Points)"
   ]
  },
  {
   "cell_type": "code",
   "execution_count": 249,
   "id": "3562a7a0-a6eb-43b7-88de-8dbc8a08eedc",
   "metadata": {},
   "outputs": [],
   "source": [
    "def vis_data(X,y):\n",
    "    # write your code here\n",
    "    "
   ]
  },
  {
   "cell_type": "code",
   "execution_count": 250,
   "id": "d91a90d7-3698-4731-bc70-0d79a8485bce",
   "metadata": {},
   "outputs": [],
   "source": [
    "vis_data(X,y)"
   ]
  },
  {
   "cell_type": "markdown",
   "id": "0d9964ba-c880-46e1-a4d5-7b4038d6cefc",
   "metadata": {},
   "source": [
    "## Implement a loss function (10 Points)"
   ]
  },
  {
   "cell_type": "code",
   "execution_count": 251,
   "id": "dbf0c964-f00a-4913-9118-e21f61a06b84",
   "metadata": {},
   "outputs": [],
   "source": [
    "# y_true --> the target values.\n",
    "# y_pred --> the predicted values\n",
    "def loss(y_true, y_pred):    \n",
    "    #Calculating loss.\n",
    "    \n",
    "    return loss"
   ]
  },
  {
   "cell_type": "markdown",
   "id": "7b86eb67-995c-46d7-b7c7-bb213ecf208a",
   "metadata": {},
   "source": [
    "## Test loss function"
   ]
  },
  {
   "cell_type": "code",
   "execution_count": 252,
   "id": "78c77fa3-7a80-4a60-834e-0e9b49b52494",
   "metadata": {},
   "outputs": [],
   "source": [
    "loss(np.array([5,2]),np.array([10,3]))"
   ]
  },
  {
   "cell_type": "markdown",
   "id": "b75a6c2b-6780-493c-bd9c-8f19636a257c",
   "metadata": {},
   "source": [
    "## Implement a function to calculate gradients (20 Points)"
   ]
  },
  {
   "cell_type": "code",
   "execution_count": 253,
   "id": "0bd31748-20f9-4816-a9ed-c95cc72650bf",
   "metadata": {},
   "outputs": [],
   "source": [
    "#Input:\n",
    "# X --> Input.\n",
    "# y_true --> target values.\n",
    "# y_pred --> predictions.\n",
    "#return:\n",
    "# dw --> the gradient with respect to the weights\n",
    "# db --> the gradient with respect to the bias.\n",
    "def gradients(X, y_true, y_pred):\n",
    "    # write your code here\n",
    "    \n",
    "    return dw, db"
   ]
  },
  {
   "cell_type": "markdown",
   "id": "2712311a-610b-4160-a73d-e6a2d7a70e3a",
   "metadata": {},
   "source": [
    "## Test gradients"
   ]
  },
  {
   "cell_type": "code",
   "execution_count": 254,
   "id": "d0f2a127-7097-4c32-9a9c-1de9dff54ec7",
   "metadata": {},
   "outputs": [],
   "source": [
    "dw,db = gradients(np.array([5]),np.array([1.5]),np.array([1.1]))\n",
    "print(f'dw = {dw} , db = {db}')"
   ]
  },
  {
   "cell_type": "markdown",
   "id": "c8c34eb1-3cc4-4640-ae8b-55907228e33c",
   "metadata": {},
   "source": [
    "## Write a function that uses your loss and gradients to train a LR model (25 Points)"
   ]
  },
  {
   "cell_type": "code",
   "execution_count": 255,
   "id": "cc7bba28-791e-42af-b667-02170d9bc691",
   "metadata": {},
   "outputs": [],
   "source": [
    "# X --> Input.\n",
    "# y --> true/target value.\n",
    "# add more arguments as you need\n",
    "def train(X, y,...):\n",
    "    # write your code here\n",
    "        \n",
    "    # returning weights, bias and losses(List).\n",
    "    return w, b"
   ]
  },
  {
   "cell_type": "code",
   "execution_count": 238,
   "id": "176f08bc-16fd-429c-906a-bd8a9432f1f0",
   "metadata": {},
   "outputs": [],
   "source": [
    "w, b = train(X, y,...)\n",
    "print(w)\n",
    "print(b)"
   ]
  },
  {
   "cell_type": "markdown",
   "id": "b148ec87-39db-454f-a8fb-7dfd560a7969",
   "metadata": {},
   "source": [
    "## Write a function to use your model to predict (15 Points)"
   ]
  },
  {
   "cell_type": "code",
   "execution_count": 239,
   "id": "00dc8c6c-19b8-41d5-a0e0-7104d73c2c94",
   "metadata": {},
   "outputs": [],
   "source": [
    "def predict(X, w, b,...):\n",
    "    # write your code here\n",
    "    \n",
    "    # Returning predictions.\n",
    "    return "
   ]
  },
  {
   "cell_type": "markdown",
   "id": "5a9a8f2c-1ad6-48a5-bebb-cbe3dc7d977e",
   "metadata": {},
   "source": [
    "### Visualise your predictions"
   ]
  },
  {
   "cell_type": "code",
   "execution_count": 257,
   "id": "5dc77ce4-38f8-4b6f-baff-14ce4b793455",
   "metadata": {},
   "outputs": [],
   "source": [
    "fig = plt.figure(figsize=(8,6))\n",
    "plt.plot(X, y, 'y.')\n",
    "plt.plot(X, predict(X, w, b,...), 'r.')\n",
    "plt.legend([\"Data\", \"Predictions\"])\n",
    "plt.xlabel('X - Input')\n",
    "plt.ylabel('y - target / true')\n",
    "plt.title('Regression')"
   ]
  },
  {
   "cell_type": "markdown",
   "id": "0395d794-f9c2-4fa3-ab64-660c60245d0b",
   "metadata": {},
   "source": [
    "## Calculate the fit score"
   ]
  },
  {
   "cell_type": "code",
   "execution_count": 260,
   "id": "56b4c13b-8813-4f24-9f1e-8ae8b0197aa6",
   "metadata": {},
   "outputs": [],
   "source": [
    "from sklearn.metrics import r2_score"
   ]
  },
  {
   "cell_type": "code",
   "execution_count": 259,
   "id": "91bb8994-487e-4983-a042-90de96dab129",
   "metadata": {},
   "outputs": [],
   "source": [
    "y_true = y\n",
    "y_pred = predict(X, w, b, [2])\n",
    "r2_score(y_true, y_pred)"
   ]
  },
  {
   "cell_type": "markdown",
   "id": "2377b1a7-89ce-42b3-b0f4-de82980923c9",
   "metadata": {},
   "source": [
    "### Use scikit-learn to fit a linear regression model using the data from data,csv (20 points)"
   ]
  },
  {
   "cell_type": "code",
   "execution_count": 264,
   "id": "833711e0-7714-4639-ab03-bfbdc1f66ed8",
   "metadata": {},
   "outputs": [],
   "source": [
    "# write your code here"
   ]
  }
 ],
 "metadata": {
  "kernelspec": {
   "display_name": "Python 3 (ipykernel)",
   "language": "python",
   "name": "python3"
  },
  "language_info": {
   "codemirror_mode": {
    "name": "ipython",
    "version": 3
   },
   "file_extension": ".py",
   "mimetype": "text/x-python",
   "name": "python",
   "nbconvert_exporter": "python",
   "pygments_lexer": "ipython3",
   "version": "3.8.10"
  }
 },
 "nbformat": 4,
 "nbformat_minor": 5
}
